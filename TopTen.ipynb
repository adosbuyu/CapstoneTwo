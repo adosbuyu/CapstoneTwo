{
 "cells": [
  {
   "cell_type": "code",
   "execution_count": 1,
   "id": "3ae370fb",
   "metadata": {},
   "outputs": [],
   "source": [
    "import pandas as pd"
   ]
  },
  {
   "cell_type": "code",
   "execution_count": 2,
   "id": "4df3feb0",
   "metadata": {},
   "outputs": [],
   "source": [
    "submission = pd.read_csv('submission_py.csv')\n",
    "test = pd.read_csv('test.csv')\n",
    "train = pd.read_csv('train.csv')"
   ]
  },
  {
   "cell_type": "code",
   "execution_count": 3,
   "id": "ff81a78e",
   "metadata": {},
   "outputs": [],
   "source": [
    "test['TotalSF'] = test['TotalBsmtSF'] + test['1stFlrSF'] + test['2ndFlrSF']\n",
    "train['TotalSF'] = train['TotalBsmtSF'] + train['1stFlrSF'] + train['2ndFlrSF']"
   ]
  },
  {
   "cell_type": "code",
   "execution_count": 8,
   "id": "5de4be4f",
   "metadata": {},
   "outputs": [],
   "source": [
    "top_ten = submission.nlargest(10, 'SalePrice')"
   ]
  },
  {
   "cell_type": "code",
   "execution_count": 9,
   "id": "c5058a8c",
   "metadata": {},
   "outputs": [],
   "source": [
    "test_top_ten = test[test['Id'].isin(top_ten['Id'])][['Id', 'OverallQual', 'GrLivArea', 'TotalSF', 'Neighborhood']]"
   ]
  },
  {
   "cell_type": "code",
   "execution_count": 10,
   "id": "091ea2d1",
   "metadata": {},
   "outputs": [],
   "source": [
    "top_ten_merged = pd.merge(top_ten, test_top_ten, on='Id')"
   ]
  },
  {
   "cell_type": "code",
   "execution_count": 11,
   "id": "c7360d52",
   "metadata": {},
   "outputs": [
    {
     "data": {
      "text/html": [
       "<div>\n",
       "<style scoped>\n",
       "    .dataframe tbody tr th:only-of-type {\n",
       "        vertical-align: middle;\n",
       "    }\n",
       "\n",
       "    .dataframe tbody tr th {\n",
       "        vertical-align: top;\n",
       "    }\n",
       "\n",
       "    .dataframe thead th {\n",
       "        text-align: right;\n",
       "    }\n",
       "</style>\n",
       "<table border=\"1\" class=\"dataframe\">\n",
       "  <thead>\n",
       "    <tr style=\"text-align: right;\">\n",
       "      <th></th>\n",
       "      <th>Id</th>\n",
       "      <th>SalePrice</th>\n",
       "      <th>OverallQual</th>\n",
       "      <th>GrLivArea</th>\n",
       "      <th>TotalSF</th>\n",
       "      <th>Neighborhood</th>\n",
       "    </tr>\n",
       "  </thead>\n",
       "  <tbody>\n",
       "    <tr>\n",
       "      <th>0</th>\n",
       "      <td>2025</td>\n",
       "      <td>657265.260898</td>\n",
       "      <td>9</td>\n",
       "      <td>2786</td>\n",
       "      <td>4634.0</td>\n",
       "      <td>NoRidge</td>\n",
       "    </tr>\n",
       "    <tr>\n",
       "      <th>1</th>\n",
       "      <td>2683</td>\n",
       "      <td>657216.169873</td>\n",
       "      <td>9</td>\n",
       "      <td>3500</td>\n",
       "      <td>5233.0</td>\n",
       "      <td>NoRidge</td>\n",
       "    </tr>\n",
       "    <tr>\n",
       "      <th>2</th>\n",
       "      <td>2681</td>\n",
       "      <td>634085.944274</td>\n",
       "      <td>9</td>\n",
       "      <td>2855</td>\n",
       "      <td>4395.0</td>\n",
       "      <td>NoRidge</td>\n",
       "    </tr>\n",
       "    <tr>\n",
       "      <th>3</th>\n",
       "      <td>2332</td>\n",
       "      <td>626194.314665</td>\n",
       "      <td>9</td>\n",
       "      <td>3078</td>\n",
       "      <td>4486.0</td>\n",
       "      <td>NoRidge</td>\n",
       "    </tr>\n",
       "    <tr>\n",
       "      <th>4</th>\n",
       "      <td>1480</td>\n",
       "      <td>541268.780476</td>\n",
       "      <td>9</td>\n",
       "      <td>2696</td>\n",
       "      <td>5542.0</td>\n",
       "      <td>NridgHt</td>\n",
       "    </tr>\n",
       "    <tr>\n",
       "      <th>5</th>\n",
       "      <td>2629</td>\n",
       "      <td>536680.409087</td>\n",
       "      <td>10</td>\n",
       "      <td>3390</td>\n",
       "      <td>4918.0</td>\n",
       "      <td>StoneBr</td>\n",
       "    </tr>\n",
       "    <tr>\n",
       "      <th>6</th>\n",
       "      <td>1997</td>\n",
       "      <td>531188.444773</td>\n",
       "      <td>9</td>\n",
       "      <td>2172</td>\n",
       "      <td>3691.0</td>\n",
       "      <td>NoRidge</td>\n",
       "    </tr>\n",
       "    <tr>\n",
       "      <th>7</th>\n",
       "      <td>1664</td>\n",
       "      <td>513762.957276</td>\n",
       "      <td>10</td>\n",
       "      <td>2674</td>\n",
       "      <td>5304.0</td>\n",
       "      <td>NridgHt</td>\n",
       "    </tr>\n",
       "    <tr>\n",
       "      <th>8</th>\n",
       "      <td>2264</td>\n",
       "      <td>506003.435864</td>\n",
       "      <td>9</td>\n",
       "      <td>2338</td>\n",
       "      <td>4998.0</td>\n",
       "      <td>StoneBr</td>\n",
       "    </tr>\n",
       "    <tr>\n",
       "      <th>9</th>\n",
       "      <td>2631</td>\n",
       "      <td>503198.126497</td>\n",
       "      <td>10</td>\n",
       "      <td>2698</td>\n",
       "      <td>4548.0</td>\n",
       "      <td>StoneBr</td>\n",
       "    </tr>\n",
       "  </tbody>\n",
       "</table>\n",
       "</div>"
      ],
      "text/plain": [
       "     Id      SalePrice  OverallQual  GrLivArea  TotalSF Neighborhood\n",
       "0  2025  657265.260898            9       2786   4634.0      NoRidge\n",
       "1  2683  657216.169873            9       3500   5233.0      NoRidge\n",
       "2  2681  634085.944274            9       2855   4395.0      NoRidge\n",
       "3  2332  626194.314665            9       3078   4486.0      NoRidge\n",
       "4  1480  541268.780476            9       2696   5542.0      NridgHt\n",
       "5  2629  536680.409087           10       3390   4918.0      StoneBr\n",
       "6  1997  531188.444773            9       2172   3691.0      NoRidge\n",
       "7  1664  513762.957276           10       2674   5304.0      NridgHt\n",
       "8  2264  506003.435864            9       2338   4998.0      StoneBr\n",
       "9  2631  503198.126497           10       2698   4548.0      StoneBr"
      ]
     },
     "execution_count": 11,
     "metadata": {},
     "output_type": "execute_result"
    }
   ],
   "source": [
    "top_ten_merged"
   ]
  }
 ],
 "metadata": {
  "kernelspec": {
   "display_name": "Python 3 (ipykernel)",
   "language": "python",
   "name": "python3"
  },
  "language_info": {
   "codemirror_mode": {
    "name": "ipython",
    "version": 3
   },
   "file_extension": ".py",
   "mimetype": "text/x-python",
   "name": "python",
   "nbconvert_exporter": "python",
   "pygments_lexer": "ipython3",
   "version": "3.11.5"
  }
 },
 "nbformat": 4,
 "nbformat_minor": 5
}
